{
 "cells": [
  {
   "cell_type": "markdown",
   "metadata": {},
   "source": [
    "## Free MongoDB + Python Tutorial for beginners\n",
    "- Authour: Naveen Thurimerla\n",
    "- Crerated On: 2020-07-08"
   ]
  },
  {
   "cell_type": "markdown",
   "metadata": {},
   "source": [
    "#### Prerequisites:\n",
    "\n",
    "1. Install **[Anaconda](https://www.anaconda.com/products/individual)**\n",
    "2. Create free cloud database **[MongoDB Atlas](https://www.mongodb.com/cloud/atlas/signup)**\n",
    "3. Open **Anaconda Navigator** --> launch **CMD** prompt --> install **pymongo** package: *pip install pymongo[srv]*\n",
    "3. Open **Jupyter Notebooks**"
   ]
  },
  {
   "cell_type": "code",
   "execution_count": 1,
   "metadata": {},
   "outputs": [],
   "source": [
    "import pymongo\n",
    "import urllib \n",
    "import os"
   ]
  },
  {
   "cell_type": "markdown",
   "metadata": {},
   "source": [
    "-  Create environment variables for hiding sensitive information\n",
    "   -  Windows:\n",
    "         - MyComputer --> Properties(right click) --> Advanced System Settings --> environment variables\n",
    "-  If your password or username having special charcters use urllib.parse.quote for error free"
   ]
  },
  {
   "cell_type": "code",
   "execution_count": 5,
   "metadata": {
    "scrolled": true
   },
   "outputs": [],
   "source": [
    "MONGODB_ATLAS_PASSWORD = urllib.parse.quote(os.environ.get('MONGODB_ATLAS_PASSWORD'))\n",
    "\n",
    "url = \"mongodb+srv://mongoadmin:\"+ MONGODB_ATLAS_PASSWORD +\"@cluster0.ac2ys.mongodb.net/music_db?retryWrites=true&w=majority\"\n",
    "\n",
    "client = pymongo.MongoClient(url)"
   ]
  },
  {
   "cell_type": "code",
   "execution_count": 6,
   "metadata": {},
   "outputs": [
    {
     "data": {
      "text/plain": [
       "['music_db',\n",
       " 'sample_airbnb',\n",
       " 'sample_analytics',\n",
       " 'sample_geospatial',\n",
       " 'sample_mflix',\n",
       " 'sample_restaurants',\n",
       " 'sample_supplies',\n",
       " 'sample_training',\n",
       " 'sample_weatherdata',\n",
       " 'admin',\n",
       " 'local']"
      ]
     },
     "execution_count": 6,
     "metadata": {},
     "output_type": "execute_result"
    }
   ],
   "source": [
    "# to get the list of databases \n",
    "client.list_database_names()"
   ]
  },
  {
   "cell_type": "code",
   "execution_count": null,
   "metadata": {},
   "outputs": [],
   "source": [
    "usefull links :\n",
    "\n",
    "https://info-mongodb-com.s3.amazonaws.com/ReferenceCards15-PDF.pdf    \n",
    "    \n",
    "    "
   ]
  }
 ],
 "metadata": {
  "kernelspec": {
   "display_name": "Python 3",
   "language": "python",
   "name": "python3"
  },
  "language_info": {
   "codemirror_mode": {
    "name": "ipython",
    "version": 3
   },
   "file_extension": ".py",
   "mimetype": "text/x-python",
   "name": "python",
   "nbconvert_exporter": "python",
   "pygments_lexer": "ipython3",
   "version": "3.7.3"
  }
 },
 "nbformat": 4,
 "nbformat_minor": 2
}
